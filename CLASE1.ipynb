{
  "nbformat": 4,
  "nbformat_minor": 0,
  "metadata": {
    "colab": {
      "provenance": [],
      "authorship_tag": "ABX9TyPMz3Kj+Ir3G91oe7ybtAZz",
      "include_colab_link": true
    },
    "kernelspec": {
      "name": "python3",
      "display_name": "Python 3"
    },
    "language_info": {
      "name": "python"
    }
  },
  "cells": [
    {
      "cell_type": "markdown",
      "metadata": {
        "id": "view-in-github",
        "colab_type": "text"
      },
      "source": [
        "<a href=\"https://colab.research.google.com/github/DCI-alxogm/ml2023-PABLOALFONSO117/blob/main/CLASE1.ipynb\" target=\"_parent\"><img src=\"https://colab.research.google.com/assets/colab-badge.svg\" alt=\"Open In Colab\"/></a>"
      ]
    },
    {
      "cell_type": "code",
      "execution_count": null,
      "metadata": {
        "id": "lTJb2JB7xY3W"
      },
      "outputs": [],
      "source": [
        "lista1=[2,\"2\",\"dos\",2.0]"
      ]
    },
    {
      "cell_type": "markdown",
      "source": [
        "PYTHON 1 LISTAS (VECTORES especiales)"
      ],
      "metadata": {
        "id": "n1wiw7otyFTb"
      }
    },
    {
      "cell_type": "code",
      "source": [
        "lista2=[\"4\",2]"
      ],
      "metadata": {
        "id": "Z0uGBdRQxq-y"
      },
      "execution_count": null,
      "outputs": []
    },
    {
      "cell_type": "code",
      "source": [
        "lista1*2\n"
      ],
      "metadata": {
        "colab": {
          "base_uri": "https://localhost:8080/"
        },
        "id": "nB0KdKdEx5NA",
        "outputId": "753450f2-d4f0-4ea6-bab9-9ee81ade10e1"
      },
      "execution_count": null,
      "outputs": [
        {
          "output_type": "execute_result",
          "data": {
            "text/plain": [
              "[2, '2', 'dos', 2.0, 2, '2', 'dos', 2.0]"
            ]
          },
          "metadata": {},
          "execution_count": 6
        }
      ]
    },
    {
      "cell_type": "code",
      "source": [
        "lista1.append(4)\n",
        "lista1"
      ],
      "metadata": {
        "colab": {
          "base_uri": "https://localhost:8080/"
        },
        "id": "WyuZ5fA5yJ6a",
        "outputId": "a8d4437e-ca40-4909-dc9e-e61cdaa24065"
      },
      "execution_count": null,
      "outputs": [
        {
          "output_type": "execute_result",
          "data": {
            "text/plain": [
              "[2, '2', 'dos', 2.0, 4, 4, 4, 4, 4, 4]"
            ]
          },
          "metadata": {},
          "execution_count": 13
        }
      ]
    },
    {
      "cell_type": "code",
      "source": [
        "lista1.remove(2)\n",
        "lista1"
      ],
      "metadata": {
        "colab": {
          "base_uri": "https://localhost:8080/"
        },
        "id": "YL05O1LHyqE6",
        "outputId": "de04c299-e484-4432-c8ca-a895f232df51"
      },
      "execution_count": null,
      "outputs": [
        {
          "output_type": "execute_result",
          "data": {
            "text/plain": [
              "['2', 'dos', 2.0, 4, 4, 4, 4, 4, 4]"
            ]
          },
          "metadata": {},
          "execution_count": 14
        }
      ]
    },
    {
      "cell_type": "markdown",
      "source": [
        "este comando list1.remove() elimina exactamente el elemento especifico dentro del parentesis que este en la lista"
      ],
      "metadata": {
        "id": "QYwitfiUzcPR"
      }
    },
    {
      "cell_type": "code",
      "source": [
        "del lista1[2]\n",
        "lista1"
      ],
      "metadata": {
        "colab": {
          "base_uri": "https://localhost:8080/"
        },
        "id": "68WbWT5-zq_K",
        "outputId": "709a2ffd-10e6-4adc-8b89-5d5f4d2c6d18"
      },
      "execution_count": null,
      "outputs": [
        {
          "output_type": "execute_result",
          "data": {
            "text/plain": [
              "['2', 'dos', 4, 4, 4, 4, 4, 4]"
            ]
          },
          "metadata": {},
          "execution_count": 15
        }
      ]
    },
    {
      "cell_type": "markdown",
      "source": [
        "con este comando del lista[] elimina por posición el indice empieza en cero\n",
        "es decir posicion 0,1,2,3,....."
      ],
      "metadata": {
        "id": "zF4DSjWTz8rq"
      }
    },
    {
      "cell_type": "code",
      "source": [
        "lista1.insert(2,\"tres\")\n",
        "lista1"
      ],
      "metadata": {
        "colab": {
          "base_uri": "https://localhost:8080/"
        },
        "id": "mQdd2JH-0FYy",
        "outputId": "a32320c1-e082-4615-ebd7-3776db1cf37b"
      },
      "execution_count": null,
      "outputs": [
        {
          "output_type": "execute_result",
          "data": {
            "text/plain": [
              "['2', 'dos', 'tres', 4, 4, 4, 4, 4, 4]"
            ]
          },
          "metadata": {},
          "execution_count": 16
        }
      ]
    },
    {
      "cell_type": "code",
      "source": [
        "lista3=[lista1,lista2]\n",
        "lista3"
      ],
      "metadata": {
        "colab": {
          "base_uri": "https://localhost:8080/"
        },
        "id": "cDXHrWw403Qy",
        "outputId": "57b9efcd-c463-4bbe-80f5-d494e6c2eed1"
      },
      "execution_count": null,
      "outputs": [
        {
          "output_type": "execute_result",
          "data": {
            "text/plain": [
              "[['2', 'dos', 'tres', 4, 4, 4, 4, 4, 4], ['4', 2]]"
            ]
          },
          "metadata": {},
          "execution_count": 17
        }
      ]
    },
    {
      "cell_type": "markdown",
      "source": [
        "ciclo para recorrer la lista"
      ],
      "metadata": {
        "id": "UpJBEVZZ1PWy"
      }
    },
    {
      "cell_type": "code",
      "source": [
        "for i in lista1:\n",
        "  print(i)"
      ],
      "metadata": {
        "colab": {
          "base_uri": "https://localhost:8080/"
        },
        "id": "JTHxmvtV1R1S",
        "outputId": "7bf8e46f-e515-48f2-a71b-e69d5c630858"
      },
      "execution_count": null,
      "outputs": [
        {
          "output_type": "stream",
          "name": "stdout",
          "text": [
            "2\n",
            "dos\n",
            "tres\n",
            "4\n",
            "4\n",
            "4\n",
            "4\n",
            "4\n",
            "4\n"
          ]
        }
      ]
    },
    {
      "cell_type": "markdown",
      "source": [
        "o bien de manera alternativa"
      ],
      "metadata": {
        "id": "-VFh5Syk1cPR"
      }
    },
    {
      "cell_type": "code",
      "source": [
        "for i in range(len(lista1)):\n",
        "  print(i,lista1[i])"
      ],
      "metadata": {
        "colab": {
          "base_uri": "https://localhost:8080/"
        },
        "id": "JB7e-7Rj1eHC",
        "outputId": "2fd1ea1a-1a8a-4e99-e783-a199cf352916"
      },
      "execution_count": null,
      "outputs": [
        {
          "output_type": "stream",
          "name": "stdout",
          "text": [
            "0 2\n",
            "1 dos\n",
            "2 tres\n",
            "3 4\n",
            "4 4\n",
            "5 4\n",
            "6 4\n",
            "7 4\n",
            "8 4\n"
          ]
        }
      ]
    },
    {
      "cell_type": "markdown",
      "source": [
        "O bien recorriendo la lista con inidices"
      ],
      "metadata": {
        "id": "ZYL70F7c2vCa"
      }
    },
    {
      "cell_type": "code",
      "source": [
        "for i item in enumerate(lista1):\n",
        "  print(i,item)"
      ],
      "metadata": {
        "colab": {
          "base_uri": "https://localhost:8080/",
          "height": 140
        },
        "id": "IiXg5Obi2z7x",
        "outputId": "24a6294c-3138-45da-a25a-2eaea25cc72d"
      },
      "execution_count": null,
      "outputs": [
        {
          "output_type": "error",
          "ename": "SyntaxError",
          "evalue": "ignored",
          "traceback": [
            "\u001b[0;36m  File \u001b[0;32m\"<ipython-input-21-fd2715b3d9ec>\"\u001b[0;36m, line \u001b[0;32m1\u001b[0m\n\u001b[0;31m    for i item in enumerate(lista1):\u001b[0m\n\u001b[0m          ^\u001b[0m\n\u001b[0;31mSyntaxError\u001b[0m\u001b[0;31m:\u001b[0m invalid syntax\n"
          ]
        }
      ]
    },
    {
      "cell_type": "markdown",
      "source": [
        "DEFINIR ARREGLOS (VECTORES)"
      ],
      "metadata": {
        "id": "YEzF8Fe53V0C"
      }
    },
    {
      "cell_type": "code",
      "source": [
        "import array as arr"
      ],
      "metadata": {
        "id": "L6c00O2v3Yvh"
      },
      "execution_count": null,
      "outputs": []
    },
    {
      "cell_type": "code",
      "source": [
        "arreglo=arr.array(\"i\",[1,2,3,4])\n",
        "arreglo"
      ],
      "metadata": {
        "colab": {
          "base_uri": "https://localhost:8080/"
        },
        "id": "6CXsMYTP4DDr",
        "outputId": "65ed4dfd-3c65-4d24-8ee3-ef3b91e65dcf"
      },
      "execution_count": null,
      "outputs": [
        {
          "output_type": "execute_result",
          "data": {
            "text/plain": [
              "array('i', [1, 2, 3, 4])"
            ]
          },
          "metadata": {},
          "execution_count": 26
        }
      ]
    },
    {
      "cell_type": "code",
      "source": [
        "arreglo2=arr.array(\"i\",[1,2,3,4])\n",
        "arreglo+arreglo2"
      ],
      "metadata": {
        "colab": {
          "base_uri": "https://localhost:8080/"
        },
        "id": "zqc5qXi14z0L",
        "outputId": "03611c48-4bf7-4003-d41a-7a8fa7c7a4a5"
      },
      "execution_count": null,
      "outputs": [
        {
          "output_type": "execute_result",
          "data": {
            "text/plain": [
              "array('i', [1, 2, 3, 4, 1, 2, 3, 4])"
            ]
          },
          "metadata": {},
          "execution_count": 27
        }
      ]
    },
    {
      "cell_type": "code",
      "source": [
        "import numpy as np"
      ],
      "metadata": {
        "id": "EtvxslFc5MJp"
      },
      "execution_count": null,
      "outputs": []
    },
    {
      "cell_type": "markdown",
      "source": [
        "DEFINIENDO ARREGLOS CON NUMPY"
      ],
      "metadata": {
        "id": "KSm1_kNc5Whi"
      }
    },
    {
      "cell_type": "code",
      "source": [
        "nparr1=np.array([1,2,3])\n",
        "nparr2=np.array([4,5,6])\n",
        "nparr1*nparr2"
      ],
      "metadata": {
        "colab": {
          "base_uri": "https://localhost:8080/"
        },
        "id": "GZuFGQ8o5OYB",
        "outputId": "0b8c1a61-f9b5-4c60-f5b1-dbf1cdc672bf"
      },
      "execution_count": null,
      "outputs": [
        {
          "output_type": "execute_result",
          "data": {
            "text/plain": [
              "array([ 4, 10, 18])"
            ]
          },
          "metadata": {},
          "execution_count": 30
        }
      ]
    },
    {
      "cell_type": "markdown",
      "source": [
        "Producto punto"
      ],
      "metadata": {
        "id": "SfdmhL-Y59Bp"
      }
    },
    {
      "cell_type": "code",
      "source": [
        "np.dot(nparr1,nparr2)"
      ],
      "metadata": {
        "colab": {
          "base_uri": "https://localhost:8080/"
        },
        "id": "DMQvojq55-wR",
        "outputId": "56830dfb-c591-4a4e-c75e-669e00f25469"
      },
      "execution_count": null,
      "outputs": [
        {
          "output_type": "execute_result",
          "data": {
            "text/plain": [
              "32"
            ]
          },
          "metadata": {},
          "execution_count": 31
        }
      ]
    }
  ]
}